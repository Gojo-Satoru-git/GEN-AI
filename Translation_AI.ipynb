{
  "nbformat": 4,
  "nbformat_minor": 0,
  "metadata": {
    "colab": {
      "provenance": [],
      "authorship_tag": "ABX9TyPJNZB2xKrhpXgMnP8xxVcl",
      "include_colab_link": true
    },
    "kernelspec": {
      "name": "python3",
      "display_name": "Python 3"
    },
    "language_info": {
      "name": "python"
    }
  },
  "cells": [
    {
      "cell_type": "markdown",
      "metadata": {
        "id": "view-in-github",
        "colab_type": "text"
      },
      "source": [
        "<a href=\"https://colab.research.google.com/github/Gojo-Satoru-git/GEN-AI/blob/main/Translation_AI.ipynb\" target=\"_parent\"><img src=\"https://colab.research.google.com/assets/colab-badge.svg\" alt=\"Open In Colab\"/></a>"
      ]
    },
    {
      "cell_type": "code",
      "execution_count": null,
      "metadata": {
        "id": "9DPDr1UcPK_U"
      },
      "outputs": [],
      "source": [
        "# Install necessary libraries\n",
        "# pip install gradio transformers\n",
        "\n",
        "import gradio as gr\n",
        "from transformers import pipeline\n",
        "\n",
        "# Load translation pipelines for multiple target languages\n",
        "language_models = {\n",
        "    \"French\": \"Helsinki-NLP/opus-mt-en-fr\",\n",
        "    \"German\": \"Helsinki-NLP/opus-mt-en-de\",\n",
        "    \"Spanish\": \"Helsinki-NLP/opus-mt-en-es\",\n",
        "    \"Italian\": \"Helsinki-NLP/opus-mt-en-it\",\n",
        "    \"Dutch\": \"Helsinki-NLP/opus-mt-en-nl\",\n",
        "    \"Portuguese\": \"Helsinki-NLP/opus-mt-en-pt\",\n",
        "    \"Russian\": \"Helsinki-NLP/opus-mt-en-ru\",\n",
        "    \"Chinese\": \"Helsinki-NLP/opus-mt-en-zh\",\n",
        "}\n",
        "\n",
        "# Create a dictionary to hold the translation pipelines\n",
        "translation_pipelines = {lang: pipeline(\"translation_en_to_\" + lang.lower(), model=model) for lang, model in language_models.items()}\n",
        "\n",
        "# Define the function for machine translation\n",
        "def translate_text(input_text, target_language):\n",
        "    # Get the appropriate translation pipeline\n",
        "    translator = translation_pipelines[target_language]\n",
        "\n",
        "    # Perform translation using the selected model\n",
        "    translated = translator(input_text, max_length=100)\n",
        "    return translated[0]['translation_text']\n",
        "\n",
        "# Create a Gradio interface\n",
        "interface = gr.Interface(\n",
        "    fn=translate_text,\n",
        "    inputs=[\n",
        "        gr.Textbox(lines=5, placeholder=\"Enter text in English...\"),\n",
        "        gr.Dropdown(choices=list(language_models.keys()), label=\"Select Target Language\")\n",
        "    ],\n",
        "    outputs=\"text\",\n",
        "    title=\"Machine Translation (English to Any Language)\",\n",
        "    description=\"Enter English text and select a target language to translate it into.\"\n",
        ")\n",
        "\n",
        "# Launch the Gradio app\n",
        "interface.launch()\n"
      ]
    },
    {
      "cell_type": "code",
      "source": [],
      "metadata": {
        "id": "_xucfNgvPZJT"
      },
      "execution_count": null,
      "outputs": []
    }
  ]
}