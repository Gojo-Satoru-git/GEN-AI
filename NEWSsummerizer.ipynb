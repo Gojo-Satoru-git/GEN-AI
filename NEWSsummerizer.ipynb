{
  "nbformat": 4,
  "nbformat_minor": 0,
  "metadata": {
    "colab": {
      "provenance": [],
      "authorship_tag": "ABX9TyOnnchUgMy5WuONwrhearuY",
      "include_colab_link": true
    },
    "kernelspec": {
      "name": "python3",
      "display_name": "Python 3"
    },
    "language_info": {
      "name": "python"
    }
  },
  "cells": [
    {
      "cell_type": "markdown",
      "metadata": {
        "id": "view-in-github",
        "colab_type": "text"
      },
      "source": [
        "<a href=\"https://colab.research.google.com/github/Gojo-Satoru-git/GEN-AI/blob/main/NEWSsummerizer.ipynb\" target=\"_parent\"><img src=\"https://colab.research.google.com/assets/colab-badge.svg\" alt=\"Open In Colab\"/></a>"
      ]
    },
    {
      "cell_type": "code",
      "execution_count": null,
      "metadata": {
        "id": "17xCCSaxMCrQ"
      },
      "outputs": [],
      "source": [
        "import requests\n",
        "import json\n",
        "from bs4 import BeautifulSoup\n",
        "\n",
        "# OpenRouter API Setup\n",
        "API_KEY = \"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\"  # Replace with your actual OpenRouter API key\n",
        "API_URL = \"https://openrouter.ai/api/v1\"\n",
        "MODEL_ID = \"mistralai/mistral-7b-instruct\"  # You can change the model if needed\n",
        "\n",
        "def fetch_news_from_url(url):\n",
        "    \"\"\"\n",
        "    Fetches and extracts news text from a given URL.\n",
        "    \"\"\"\n",
        "    try:\n",
        "        response = requests.get(url, headers={\"User-Agent\": \"Mozilla/5.0\"})\n",
        "        response.raise_for_status()\n",
        "\n",
        "        soup = BeautifulSoup(response.text, \"html.parser\")\n",
        "\n",
        "        # Extract article text (common tags: <p>, <article>, etc.)\n",
        "        paragraphs = [p.get_text() for p in soup.find_all(\"p\")]\n",
        "        news_text = \" \".join(paragraphs)\n",
        "\n",
        "        return news_text if news_text else None\n",
        "    except requests.exceptions.RequestException as e:\n",
        "        print(f\"❌ Error fetching news: {e}\")\n",
        "        return None\n",
        "\n",
        "def summarize_text(text, summary_type=\"extractive\", max_length=150):\n",
        "    if summary_type not in [\"extractive\", \"abstractive\"]:\n",
        "        raise ValueError(\"Invalid summary type. Choose 'extractive' or 'abstractive'.\")\n",
        "\n",
        "    prompt = f\"Summarize the following news article in a {summary_type} manner within {max_length} words:\\n{text}\"\n",
        "\n",
        "    headers = {\n",
        "        \"Authorization\": f\"Bearer {API_KEY}\",\n",
        "        \"Content-Type\": \"application/json\"\n",
        "    }\n",
        "\n",
        "    data = {\n",
        "        \"model\": MODEL_ID,\n",
        "        \"messages\": [{\"role\": \"user\", \"content\": prompt}],\n",
        "        \"temperature\": 0.5,\n",
        "        \"max_tokens\": max_length\n",
        "    }\n",
        "\n",
        "    response = requests.post(API_URL, headers=headers, json=data)\n",
        "\n",
        "    print(\"Response Status Code:\", response.status_code)\n",
        "    print(\"Response Text:\", response.text)  # Debugging line\n",
        "\n",
        "    if response.status_code == 200:\n",
        "        try:\n",
        "            result = response.json()\n",
        "            return result[\"choices\"][0][\"message\"][\"content\"].strip()\n",
        "        except json.JSONDecodeError:\n",
        "            return \"❌ Error: Response is not in JSON format!\"\n",
        "    else:\n",
        "        return f\"❌ Error in summarization: {response.text}\"\n",
        "\n",
        "def generate_summary(input_text=None, url=None, summary_type=\"extractive\", max_length=150, output_format=\"json\"):\n",
        "    \"\"\"\n",
        "    Fetches news from URL or accepts raw text, then generates a summary.\n",
        "\n",
        "    :param input_text: Raw text input (optional)\n",
        "    :param url: URL of the news article (optional)\n",
        "    :param summary_type: \"extractive\" or \"abstractive\"\n",
        "    :param max_length: Length of the summary\n",
        "    :param output_format: \"json\" or \"text\"\n",
        "    :return: Summary in the chosen format\n",
        "    \"\"\"\n",
        "    if url:\n",
        "        input_text = fetch_news_from_url(url)\n",
        "        if not input_text:\n",
        "            return \"❌ Failed to extract news content.\"\n",
        "\n",
        "    if not input_text:\n",
        "        return \"❌ No valid input provided for summarization.\"\n",
        "\n",
        "    summary = summarize_text(input_text, summary_type, max_length)\n",
        "\n",
        "    if output_format == \"json\":\n",
        "        return json.dumps({\"summary\": summary, \"summary_type\": summary_type, \"max_length\": max_length}, indent=4)\n",
        "    return summary\n",
        "\n",
        "# Example Usage\n",
        "if __name__ == \"__main__\":\n",
        "    # Example URL (Replace with a real news article)\n",
        "    news_url = \"https://www.nbcnews.com/business/autos/trump-auto-tariffs-which-companies-how-much-when-what-to-know-rcna198223\"\n",
        "\n",
        "    # Generate extractive summary\n",
        "    summary_result = generate_summary(url=news_url, summary_type=\"extractive\", max_length=200, output_format=\"json\")\n",
        "\n",
        "    print(summary_result)\n"
      ]
    },
    {
      "cell_type": "code",
      "source": [],
      "metadata": {
        "id": "ubhXixPtNIwO"
      },
      "execution_count": null,
      "outputs": []
    }
  ]
}