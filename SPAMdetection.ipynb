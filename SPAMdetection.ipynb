{
  "nbformat": 4,
  "nbformat_minor": 0,
  "metadata": {
    "colab": {
      "provenance": [],
      "authorship_tag": "ABX9TyPZ4u+D78FoFgoRdfSggKg/",
      "include_colab_link": true
    },
    "kernelspec": {
      "name": "python3",
      "display_name": "Python 3"
    },
    "language_info": {
      "name": "python"
    }
  },
  "cells": [
    {
      "cell_type": "markdown",
      "metadata": {
        "id": "view-in-github",
        "colab_type": "text"
      },
      "source": [
        "<a href=\"https://colab.research.google.com/github/Gojo-Satoru-git/GEN-AI/blob/main/SPAMdetection.ipynb\" target=\"_parent\"><img src=\"https://colab.research.google.com/assets/colab-badge.svg\" alt=\"Open In Colab\"/></a>"
      ]
    },
    {
      "cell_type": "code",
      "execution_count": 8,
      "metadata": {
        "colab": {
          "base_uri": "https://localhost:8080/"
        },
        "id": "li2KKY50WytI",
        "outputId": "4c4998fa-aa3c-463b-df4c-9e1d79e2bacc"
      },
      "outputs": [
        {
          "output_type": "stream",
          "name": "stderr",
          "text": [
            "Device set to use cpu\n"
          ]
        },
        {
          "output_type": "stream",
          "name": "stdout",
          "text": [
            "Enter a message: \"Your account has been temporarily suspended due to suspicious activity. Please verify your identity at http://secure-login.fakebank.com\"Your account has been temporarily suspended due to suspicious activity. Please verify your identity at http://secure-login.fakebank.com\"Your account has been temporarily suspended due to suspicious activity. Please verify your identity at http://secure-login.fakebank.com\"Your account has been temporarily suspended due to suspicious activity. Please verify your identity at http://secure-login.fakebank.com\"Your account has been temporarily suspended due to suspicious activity. Please verify your identity at http://secure-login.fakebank.com\n",
            "\n",
            "[Result] → 🔴 SPAM (confidence: 0.51)\n"
          ]
        }
      ],
      "source": [
        "from transformers import pipeline\n",
        "\n",
        "# Load the spam detection pipeline\n",
        "spam_classifier = pipeline(\"text-classification\", model=\"mrm8488/bert-tiny-finetuned-sms-spam-detection\")\n",
        "\n",
        "def detect_spam(message):\n",
        "    result = spam_classifier(message)[0]\n",
        "    label = result['label']\n",
        "    score = result['score']\n",
        "\n",
        "    if label == \"LABEL_1\":\n",
        "        return f\"🔴 SPAM (confidence: {score:.2f})\"\n",
        "    else:\n",
        "        return f\"🟢 HAM / Not Spam (confidence: {score:.2f})\"\n",
        "\n",
        "# Example\n",
        "if __name__ == \"__main__\":\n",
        "    user_input = input(\"Enter a message: \")\n",
        "    prediction = detect_spam(user_input)\n",
        "    print(\"\\n[Result] →\", prediction)\n"
      ]
    },
    {
      "cell_type": "code",
      "source": [],
      "metadata": {
        "id": "LXLD3fLZWz-I"
      },
      "execution_count": null,
      "outputs": []
    }
  ]
}